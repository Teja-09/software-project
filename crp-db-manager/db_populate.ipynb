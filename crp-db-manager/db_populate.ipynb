{
 "cells": [
  {
   "cell_type": "code",
   "metadata": {},
   "outputs": [],
   "source": [
    "import firebase_admin\n",
    "from firebase_admin import credentials\n",
    "from firebase_admin import firestore\n",
    "\n",
    "cred = credentials.Certificate('crp-db-manager/crp-backend-server-b67475fc5e44.json')\n",
    "firebase_admin.initialize_app(cred)\n",
    "\n",
    "db = firestore.client()"
   ]
  },
  {
   "cell_type": "code",
   "metadata": {},
   "outputs": [],
   "source": []
  },
  {
   "cell_type": "code",
   "metadata": {},
   "outputs": [],
   "source": [
    "# code to add User details to the database\n",
    "import pandas as pd\n",
    "\n",
    "user_df = pd.read_csv('crp-db-manager/user_db.csv')\n",
    "\n",
    "user_ref = db.collection(u'User')\n",
    "\n",
    "for index, row in user_df.iterrows():\n",
    "    doc_ref = user_ref.document(row['Registration Number'])\n",
    "    \n",
    "    regno = row['Registration Number']\n",
    "    uname = row['Username']\n",
    "    passw = row['Password']\n",
    "    email = row['Email']\n",
    "    phnno = row['Phone Number']\n",
    "    usert = row['User Type']\n",
    "    \n",
    "    doc_ref.set({\n",
    "        u'registrationNumber': regno,\n",
    "        u'name': uname,\n",
    "        u'password': passw,\n",
    "        u'email': email,\n",
    "        u'phoneNumber': phnno,\n",
    "        u'userType': usert\n",
    "    })"
   ]
  },
  {
   "cell_type": "code",
   "metadata": {},
   "outputs": [],
   "source": [
    "# code to add Course details to the database\n",
    "import json\n",
    "\n",
    "course_ref = db.collection(u'Course')\n",
    "\n",
    "with open('crp-db-manager/course_parse_data.json', 'r') as course_db:\n",
    "    course_data = json.loads(course_db.read())\n",
    "    \n",
    "    for code, info in course_data.items():\n",
    "        doc_ref = course_ref.document(str(code))\n",
    "        try:\n",
    "            doc_ref.set(info)\n",
    "        except:\n",
    "            print(info)"
   ]
  },
  {
   "cell_type": "code",
   "metadata": {},
   "outputs": [],
   "source": [
    "# Code to fetch details\n",
    "\n",
    "# Available data: User, Course\n",
    "\n",
    "doc_ref = db.collection(u'Course')\n",
    "\n",
    "docs = doc_ref.stream()\n",
    "\n",
    "for doc in docs:\n",
    "    print(u'{} => {}'.format(doc.id, doc.to_dict()))"
   ]
  },
  {
   "cell_type": "code",
   "metadata": {},
   "outputs": [],
   "source": [
    "from firebase_admin import auth\n",
    "\n",
    "user_df = pd.read_csv('crp-db-manager/user_db.csv')\n",
    "\n",
    "email_passw = user_df[['Email', 'Password']]\n",
    "\n",
    "users = list()\n",
    "\n",
    "for i in range(len(email_passw)):\n",
    "    users.append(\n",
    "        auth.ImportUserRecord(\n",
    "            uid='uid' + str(i + 1),\n",
    "            email=email_passw.iloc[i]['Email'],\n",
    "            password_hash=bytes(email_passw.iloc[i]['Password'], 'utf-8'),\n",
    "            password_salt=b'salt' + bytes(i + 1)\n",
    "        )\n",
    "    )"
   ]
  },
  {
   "cell_type": "code",
   "metadata": {},
   "outputs": [],
   "source": [
    "\n",
    "hash_alg = auth.UserImportHash.hmac_sha256(key=b'sooperdooperceekret')\n",
    "try:\n",
    "    result = auth.import_users(users, hash_alg=hash_alg)\n",
    "    for err in result.errors:\n",
    "        print('Failed to import user:', err.reason)\n",
    "except exceptions.FirebaseError as error:\n",
    "    print('Error importing users:', error)\n"
   ]
  },
  {
   "cell_type": "code",
   "metadata": {},
   "outputs": [],
   "source": [
    "import pandas as pd\n",
    "\n",
    "user_df = pd.read_csv('crp-db-manager/user_db.csv')\n",
    "\n",
    "user_course_list = list()\n",
    "\n",
    "for i in range(user_df.shape[0]):\n",
    "    user_course_list.append(user_df.iloc[i]['Registration Number'][8:11])\n",
    "\n",
    "user_df = user_df.assign(Dept = user_course_list)"
   ]
  },
  {
   "cell_type": "code",
   "metadata": {},
   "outputs": [],
   "source": [
    "from collections import defaultdict\n",
    "import json\n",
    "\n",
    "course_dict = defaultdict(list)\n",
    "\n",
    "courses = dict()\n",
    "with open('crp-db-manager/course_parse_data.json', 'r') as course_db:\n",
    "    courses = json.loads(course_db.read())\n",
    "\n",
    "for elem in courses.keys():\n",
    "    course_dict[elem[2:5]].append(elem)\n",
    "\n",
    "course_dict"
   ]
  },
  {
   "cell_type": "code",
   "metadata": {},
   "outputs": [],
   "source": [
    "import random\n",
    "\n",
    "student_details = dict()\n",
    "\n",
    "for i in range(user_df.shape[0]):\n",
    "    if user_df.iloc[i]['User Type'] == 'STUDENT':\n",
    "        if user_df.iloc[i]['Dept'] != 'CIV': \n",
    "            course_list = course_dict[user_df.iloc[i]['Dept']] + course_dict['HUM'] + course_dict['MAT']\n",
    "        else:\n",
    "            course_list = course_dict['HUM'] + course_dict['MAT']\n",
    "\n",
    "        total_course = random.randint(0, min(7, len(course_list)))\n",
    "        random_courses = random.sample(course_list, total_course)\n",
    "\n",
    "        course_rem_set = list(set(course_list) - set(random_courses))\n",
    "\n",
    "        course_rem = random.sample(course_rem_set, min(10 - total_course, len(course_rem_set)))\n",
    "        \n",
    "        student_details[user_df.iloc[i]['Registration Number']] = {\n",
    "            'rollNumber': user_df.iloc[i]['Registration Number'],\n",
    "            'reviews': [],\n",
    "            'questions': [],\n",
    "            'coursesCompleted': random_courses,\n",
    "            'coursesRemaining': course_rem\n",
    "        }"
   ]
  },
  {
   "cell_type": "code",
   "metadata": {},
   "outputs": [],
   "source": [
    "student_ref = db.collection(u'Student')\n",
    "\n",
    "for rollNum, info in student_details.items():\n",
    "    doc_ref = student_ref.document(str(rollNum))\n",
    "    try:\n",
    "        doc_ref.set(info)\n",
    "    except:\n",
    "        print(info)"
   ]
  },
  {
   "cell_type": "code",
   "metadata": {},
   "outputs": [],
   "source": [
    "from collections import defaultdict\n",
    "\n",
    "subscribe_course_set = set()\n",
    "\n",
    "for elem in student_details.values():\n",
    "    subscribe_course_set.update(elem.get('coursesCompleted'))\n",
    "    subscribe_course_set.update(elem.get('coursesRemaining'))\n",
    "\n",
    "course_count = defaultdict(int)\n",
    "\n",
    "for elem in subscribe_course_set:\n",
    "    course_count[elem[2:5]] += 1\n",
    "\n",
    "faculty_count = defaultdict(int)\n",
    "for i in range(user_df.shape[0]):\n",
    "    \n",
    "    if user_df.iloc[i]['User Type'] in ['FACULTY', 'MENTOR']:\n",
    "        faculty_count[user_df.iloc[i]['Registration Number'][8:11]] += 1"
   ]
  },
  {
   "cell_type": "code",
   "metadata": {},
   "outputs": [],
   "source": [
    "course_count"
   ]
  }
 ],
 "metadata": {
  "kernelspec": {
   "display_name": "Python 3",
   "language": "python",
   "name": "python3"
  },
  "language_info": {
   "codemirror_mode": {
    "name": "ipython",
    "version": 3
   },
   "file_extension": ".py",
   "mimetype": "text/x-python",
   "name": "python",
   "nbconvert_exporter": "python",
   "pygments_lexer": "ipython3",
   "version": "3.7.5"
  }
 },
 "nbformat": 4,
 "nbformat_minor": 2
}