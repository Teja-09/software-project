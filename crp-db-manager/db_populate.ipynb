{
 "cells": [
  {
   "cell_type": "code",
   "execution_count": 1,
   "metadata": {},
   "outputs": [],
   "source": [
    "import firebase_admin\n",
    "from firebase_admin import credentials\n",
    "from firebase_admin import firestore\n",
    "\n",
    "cred = credentials.Certificate('crp-db-manager/crp-backend-server-b67475fc5e44.json')\n",
    "firebase_admin.initialize_app(cred)\n",
    "\n",
    "db = firestore.client()"
   ]
  },
  {
   "cell_type": "code",
   "execution_count": 2,
   "metadata": {},
   "outputs": [],
   "source": [
    "# code to add User details to the database\n",
    "import pandas as pd\n",
    "\n",
    "user_df = pd.read_csv('crp-db-manager/user_passw.csv')\n",
    "\n",
    "user_ref = db.collection(u'users')\n",
    "\n",
    "for index, row in user_df.iterrows():\n",
    "    doc_ref = user_ref.document(row['uid'])\n",
    "    \n",
    "    regno = row['reg-number']\n",
    "    gendr = row['gender']\n",
    "    uname = row['name']\n",
    "    email = row['email']\n",
    "    phnno = row['phone-number']\n",
    "    usert = row['user-type']\n",
    "    \n",
    "    doc_ref.set({\n",
    "        u'registrationNumber': regno,\n",
    "        u'name': uname,\n",
    "        u'gender': gendr,\n",
    "        u'email': email,\n",
    "        u'phoneNumber': phnno,\n",
    "        u'userType': usert\n",
    "    })"
   ]
  },
  {
   "cell_type": "code",
   "execution_count": 3,
   "metadata": {},
   "outputs": [],
   "source": [
    "# code to add Course details to the database\n",
    "import json\n",
    "\n",
    "course_ref = db.collection(u'courses')\n",
    "\n",
    "with open('crp-db-manager/course_parse_data.json', 'r') as course_db:\n",
    "    course_data = json.loads(course_db.read())\n",
    "    \n",
    "    for code, info in course_data.items():\n",
    "        doc_ref = course_ref.document(str(code))\n",
    "        try:\n",
    "            doc_ref.set(info)\n",
    "        except:\n",
    "            print(info)"
   ]
  },
  {
   "cell_type": "code",
   "metadata": {},
   "outputs": [],
   "source": [
    "# Code to fetch details\n",
    "\n",
    "# Available data: User, Course\n",
    "\n",
    "doc_ref = db.collection(u'users')\n",
    "\n",
    "docs = doc_ref.stream()\n",
    "\n",
    "for doc in docs:\n",
    "    print(u'{} => {}'.format(doc.id, doc.to_dict()))"
   ]
  },
  {
   "cell_type": "code",
   "metadata": {},
   "outputs": [],
   "source": [
    "from firebase_admin import auth\n",
    "import pandas as pd\n",
    "import bcrypt\n",
    "\n",
    "user_df = pd.read_csv('crp-db-manager/user_passw.csv')\n",
    "\n",
    "email_passw = user_df[['email', 'password']]\n",
    "\n",
    "users = list()\n",
    "\n",
    "for i in range(len(email_passw)):\n",
    "    passw = email_passw.iloc[i]['password'].encode()\n",
    "    salt = bcrypt.gensalt()\n",
    "    hashed = bcrypt.hashpw(passw, salt)\n",
    "    users.append(\n",
    "        auth.ImportUserRecord(\n",
    "            uid='uid' + str(i + 1),\n",
    "            email=email_passw.iloc[i]['email'],\n",
    "            password_hash=hashed,\n",
    "            password_salt=salt\n",
    "        )\n",
    "    )\n",
    "\n",
    "users"
   ]
  },
  {
   "cell_type": "code",
   "metadata": {},
   "outputs": [],
   "source": [
    "hash_alg = auth.UserImportHash.bcrypt()\n",
    "\n",
    "try:\n",
    "    result = auth.import_users(users, hash_alg=hash_alg)\n",
    "    for err in result.errors:\n",
    "        print('Failed to import user:', err.reason)\n",
    "except exceptions.FirebaseError as error:\n",
    "    print('Error importing users:', error)\n"
   ]
  },
  {
   "cell_type": "code",
   "execution_count": 5,
   "metadata": {},
   "outputs": [],
   "source": [
    "import pandas as pd\n",
    "\n",
    "user_df = pd.read_csv('crp-db-manager/user_passw.csv')\n",
    "\n",
    "user_course_list = list()\n",
    "\n",
    "for i in range(user_df.shape[0]):\n",
    "    user_course_list.append(user_df.iloc[i]['reg-number'][8:11])\n",
    "\n",
    "user_df = user_df.assign(Dept = user_course_list)"
   ]
  },
  {
   "cell_type": "code",
   "metadata": {},
   "outputs": [],
   "source": [
    "from collections import defaultdict\n",
    "import json\n",
    "\n",
    "course_dict = defaultdict(list)\n",
    "\n",
    "courses = dict()\n",
    "with open('crp-db-manager/course_parse_data.json', 'r') as course_db:\n",
    "    courses = json.loads(course_db.read())\n",
    "\n",
    "for elem in courses.keys():\n",
    "    course_dict[elem[2:5]].append(elem)\n",
    "\n",
    "course_dict"
   ]
  },
  {
   "cell_type": "code",
   "metadata": {},
   "outputs": [],
   "source": [
    "import random\n",
    "\n",
    "student_details = dict()\n",
    "\n",
    "for i in range(user_df.shape[0]):\n",
    "    if user_df.iloc[i]['User Type'] == 'STUDENT':\n",
    "        if user_df.iloc[i]['Dept'] != 'CIV': \n",
    "            course_list = course_dict[user_df.iloc[i]['Dept']] + course_dict['HUM'] + course_dict['MAT']\n",
    "        else:\n",
    "            course_list = course_dict['HUM'] + course_dict['MAT']\n",
    "\n",
    "        total_course = random.randint(0, min(7, len(course_list)))\n",
    "        random_courses = random.sample(course_list, total_course)\n",
    "\n",
    "        course_rem_set = list(set(course_list) - set(random_courses))\n",
    "\n",
    "        course_rem = random.sample(course_rem_set, min(10 - total_course, len(course_rem_set)))\n",
    "        \n",
    "        student_details[user_df.iloc[i]['Registration Number']] = {\n",
    "            'rollNumber': user_df.iloc[i]['Registration Number'],\n",
    "            'reviews': [],\n",
    "            'questions': [],\n",
    "            'coursesCompleted': random_courses,\n",
    "            'coursesRemaining': course_rem\n",
    "        }"
   ]
  },
  {
   "cell_type": "code",
   "metadata": {},
   "outputs": [],
   "source": [
    "student_ref = db.collection(u'Student')\n",
    "\n",
    "for rollNum, info in student_details.items():\n",
    "    doc_ref = student_ref.document(str(rollNum))\n",
    "    try:\n",
    "        doc_ref.set(info)\n",
    "    except:\n",
    "        print(info)"
   ]
  },
  {
   "cell_type": "code",
   "metadata": {},
   "outputs": [],
   "source": [
    "from collections import defaultdict\n",
    "\n",
    "subscribe_course_set = set()\n",
    "\n",
    "for elem in student_details.values():\n",
    "    subscribe_course_set.update(elem.get('coursesCompleted'))\n",
    "    subscribe_course_set.update(elem.get('coursesRemaining'))\n",
    "\n",
    "course_count = defaultdict(int)\n",
    "\n",
    "for elem in subscribe_course_set:\n",
    "    course_count[elem[2:5]] += 1\n",
    "\n",
    "faculty_count = defaultdict(int)\n",
    "for i in range(user_df.shape[0]):\n",
    "    \n",
    "    if user_df.iloc[i]['User Type'] in ['FACULTY', 'MENTOR']:\n",
    "        faculty_count[user_df.iloc[i]['Registration Number'][8:11]] += 1"
   ]
  },
  {
   "cell_type": "code",
   "execution_count": 30,
   "metadata": {},
   "outputs": [
    {
     "data": {
      "text/plain": "{'uid1': {'rollNumber': 'CB.EN.U4CSE20000',\n  'reviews': {},\n  'questions': {},\n  'coursesCompleted': [],\n  'coursesRemaining': []},\n 'uid2': {'rollNumber': 'CB.EN.U4CSE20001',\n  'reviews': {},\n  'questions': {},\n  'coursesCompleted': [],\n  'coursesRemaining': []},\n 'uid3': {'rollNumber': 'CB.EN.U4CSE20002',\n  'reviews': {},\n  'questions': {},\n  'coursesCompleted': [],\n  'coursesRemaining': []},\n 'uid4': {'rollNumber': 'CB.EN.U4CSE20003',\n  'reviews': {},\n  'questions': {},\n  'coursesCompleted': [],\n  'coursesRemaining': []}}"
     },
     "execution_count": 30,
     "metadata": {},
     "output_type": "execute_result"
    }
   ],
   "source": [
    "student_details = dict()\n",
    "\n",
    "for rows in user_df.iterrows():\n",
    "    if rows[1]['user-type'] == 'STUDENT':\n",
    "        student_details[rows[1]['uid']] = {\n",
    "            'rollNumber': rows[1]['reg-number'],\n",
    "            'reviews': {},\n",
    "            'questions': {},\n",
    "            'coursesCompleted': [],\n",
    "            'coursesRemaining': []\n",
    "        }\n",
    "\n",
    "student_details"
   ]
  },
  {
   "cell_type": "code",
   "execution_count": 31,
   "metadata": {},
   "outputs": [],
   "source": [
    "student_ref = db.collection(u'students')\n",
    "\n",
    "for uid, info in student_details.items():\n",
    "    doc_ref = student_ref.document(str(uid))\n",
    "    try:\n",
    "        doc_ref.set(info)\n",
    "    except:\n",
    "        print(info)"
   ]
  },
  {
   "cell_type": "code",
   "execution_count": 32,
   "metadata": {},
   "outputs": [
    {
     "data": {
      "text/plain": "{'uid5': {'regNumber': 'CB.EN.FTCSE20000',\n  'questions': {},\n  'previousCourses': {},\n  'currentCourses': {}},\n 'uid6': {'regNumber': 'CB.EN.FTCSE20001',\n  'questions': {},\n  'previousCourses': {},\n  'currentCourses': {}},\n 'uid7': {'regNumber': 'CB.EN.FTCSE20002',\n  'questions': {},\n  'previousCourses': {},\n  'currentCourses': {}}}"
     },
     "execution_count": 32,
     "metadata": {},
     "output_type": "execute_result"
    }
   ],
   "source": [
    "staff_details = dict()\n",
    "\n",
    "for rows in user_df.iterrows():\n",
    "    if rows[1]['user-type'] != 'STUDENT':\n",
    "        staff_details[rows[1]['uid']] = {\n",
    "            'regNumber': rows[1]['reg-number'],\n",
    "            'questions': {},\n",
    "            'previousCourses': {},\n",
    "            'currentCourses': {}\n",
    "        }\n",
    "\n",
    "staff_details"
   ]
  },
  {
   "cell_type": "code",
   "execution_count": 33,
   "metadata": {},
   "outputs": [],
   "source": [
    "staff_ref = db.collection(u'staffs')\n",
    "\n",
    "for uid, info in staff_details.items():\n",
    "    doc_ref = staff_ref.document(str(uid))\n",
    "    try:\n",
    "        doc_ref.set(info)\n",
    "    except:\n",
    "        print(info)"
   ]
  },
  {
   "cell_type": "code",
   "execution_count": 23,
   "metadata": {},
   "outputs": [],
   "source": [
    "reviews = {\n",
    "    'reviewId': \"\",\n",
    "    'courseCode': \"\",\n",
    "    'uid': \"\",\n",
    "    'rating': {},\n",
    "    'reviewText': \"\",\n",
    "}"
   ]
  },
  {
   "cell_type": "code",
   "execution_count": 22,
   "metadata": {},
   "outputs": [],
   "source": [
    "questions = {\n",
    "    'questionId': \"\",\n",
    "    'courseCode': \"\",\n",
    "    'uidAsked': \"\",\n",
    "    'uidAnswered': \"\",\n",
    "    'questionText': \"\",\n",
    "    'answerText': \"\"\n",
    "}"
   ]
  },
  {
   "cell_type": "code",
   "execution_count": 28,
   "metadata": {},
   "outputs": [],
   "source": [
    "ratingQuestions = { \"0\": { 'questionNumber': \"0\", 'questionText': \"Overall rating\" } }                                          "
   ]
  },
  {
   "cell_type": "code",
   "execution_count": 29,
   "metadata": {},
   "outputs": [],
   "source": [
    "rate_ques_ref = db.collection(u'ratingQuestions')\n",
    "\n",
    "for qid, info in ratingQuestions.items():\n",
    "    doc_ref = rate_ques_ref.document(str(qid))\n",
    "    try:\n",
    "        doc_ref.set(info)\n",
    "    except:\n",
    "        print(info)"
   ]
  }
 ],
 "metadata": {
  "kernelspec": {
   "display_name": "Python 3",
   "language": "python",
   "name": "python3"
  },
  "language_info": {
   "codemirror_mode": {
    "name": "ipython",
    "version": 3
   },
   "file_extension": ".py",
   "mimetype": "text/x-python",
   "name": "python",
   "nbconvert_exporter": "python",
   "pygments_lexer": "ipython3",
   "version": "3.7.5"
  }
 },
 "nbformat": 4,
 "nbformat_minor": 2
}