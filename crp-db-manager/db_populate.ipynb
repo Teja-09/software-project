{
 "cells": [
  {
   "cell_type": "code",
   "metadata": {},
   "outputs": [],
   "source": [
    "import firebase_admin\n",
    "from firebase_admin import credentials\n",
    "from firebase_admin import firestore\n",
    "import pandas as pd\n",
    "import json\n",
    "\n",
    "# Use a service account\n",
    "cred = credentials.Certificate('crp-backend-server-b67475fc5e44.json')\n",
    "firebase_admin.initialize_app(cred)\n",
    "\n",
    "db = firestore.client()"
   ]
  },
  {
   "cell_type": "code",
   "metadata": {},
   "outputs": [],
   "source": [
    "# code to add User details to the database\n",
    "\n",
    "user_ref = db.collection(u'User')\n",
    "\n",
    "user_df = pd.read_csv('user_db.csv')\n",
    "\n",
    "for index, row in user_df.iterrows():\n",
    "    doc_ref = user_ref.document(row['Registration Number'])\n",
    "    \n",
    "    regno = row['Registration Number']\n",
    "    uname = row['Username']\n",
    "    passw = row['Password']\n",
    "    email = row['Email']\n",
    "    phnno = row['Phone Number']\n",
    "    usert = row['User Type']\n",
    "    \n",
    "    doc_ref.set({\n",
    "        u'registrationNumber': regno,\n",
    "        u'name': uname,\n",
    "        u'password': passw,\n",
    "        u'email': email,\n",
    "        u'phoneNumber': phnno,\n",
    "        u'userType': usert\n",
    "    })"
   ]
  },
  {
   "cell_type": "code",
   "metadata": {},
   "outputs": [],
   "source": [
    "# code to add Course details to the database\n",
    "\n",
    "course_ref = db.collection(u'Course')\n",
    "\n",
    "with open('course_db.json', 'r') as course_db:\n",
    "    course_data = json.loads(course_db.read())\n",
    "    \n",
    "    for code, info in course_data.items():\n",
    "        doc_ref = course_ref.document(code)\n",
    "        \n",
    "        doc_ref.set(info)"
   ]
  },
  {
   "cell_type": "code",
   "metadata": {},
   "outputs": [],
   "source": [
    "# Code to fetch details\n",
    "\n",
    "# Available data: User, Course\n",
    "\n",
    "doc_ref = db.collection(u'Course')\n",
    "\n",
    "docs = doc_ref.stream()\n",
    "\n",
    "for doc in docs:\n",
    "    print(u'{} => {}'.format(doc.id, doc.to_dict()))"
   ]
  }
 ],
 "metadata": {
  "kernelspec": {
   "display_name": "Python 3",
   "language": "python",
   "name": "python3"
  },
  "language_info": {
   "codemirror_mode": {
    "name": "ipython",
    "version": 3
   },
   "file_extension": ".py",
   "mimetype": "text/x-python",
   "name": "python",
   "nbconvert_exporter": "python",
   "pygments_lexer": "ipython3",
   "version": "3.7.5"
  }
 },
 "nbformat": 4,
 "nbformat_minor": 2
}