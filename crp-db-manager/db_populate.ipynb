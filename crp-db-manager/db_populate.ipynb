{
 "cells": [
  {
   "cell_type": "code",
   "execution_count": 1,
   "metadata": {},
   "outputs": [],
   "source": [
    "import firebase_admin\n",
    "from firebase_admin import credentials\n",
    "from firebase_admin import firestore\n",
    "import pandas as pd\n",
    "import json\n",
    "\n",
    "cred = credentials.Certificate('crp-db-manager/crp-backend-server-b67475fc5e44.json')\n",
    "firebase_admin.initialize_app(cred)\n",
    "\n",
    "db = firestore.client()"
   ]
  },
  {
   "cell_type": "code",
   "metadata": {},
   "outputs": [],
   "source": [
    "# code to add User details to the database\n",
    "\n",
    "user_ref = db.collection(u'User')\n",
    "\n",
    "user_df = pd.read_csv('crp-db-manager/user_db.csv')\n",
    "\n",
    "for index, row in user_df.iterrows():\n",
    "    doc_ref = user_ref.document(row['Registration Number'])\n",
    "    \n",
    "    regno = row['Registration Number']\n",
    "    uname = row['Username']\n",
    "    passw = row['Password']\n",
    "    email = row['Email']\n",
    "    phnno = row['Phone Number']\n",
    "    usert = row['User Type']\n",
    "    \n",
    "    doc_ref.set({\n",
    "        u'registrationNumber': regno,\n",
    "        u'name': uname,\n",
    "        u'password': passw,\n",
    "        u'email': email,\n",
    "        u'phoneNumber': phnno,\n",
    "        u'userType': usert\n",
    "    })"
   ]
  },
  {
   "cell_type": "code",
   "execution_count": 2,
   "metadata": {},
   "outputs": [],
   "source": [
    "# code to add Course details to the database\n",
    "\n",
    "course_ref = db.collection(u'Course')\n",
    "\n",
    "with open('crp-db-manager/course_parse_data.json', 'r') as course_db:\n",
    "    course_data = json.loads(course_db.read())\n",
    "    \n",
    "    for code, info in course_data.items():\n",
    "        doc_ref = course_ref.document(str(code))\n",
    "        try:\n",
    "            doc_ref.set(info)\n",
    "        except:\n",
    "            print(info)"
   ]
  },
  {
   "cell_type": "code",
   "execution_count": 3,
   "metadata": {},
   "outputs": [
    {
     "name": "stdout",
     "output_type": "stream",
     "text": "15CSE100 => {'courseName': 'COMPUTATIONAL THINKING AND PROBLEM SOLVING', 'courseCode': '15CSE100', 'courseDescription': {'units': {'Unit 3': 'Problem Solving Techniques: Factoring and Recursion Techniques, Search and Sort techniques, Text processing and Pattern matching.', 'Unit 1': 'Basics: Introduction, Information and data, Data encoding. Logic: Boolean logic, Applications of propositional logic.', 'Unit 2': 'Problem Solving and Algorithmic Thinking: Problem definition, Logical reasoning, Problem decomposition, Abstraction. Flowcharting, Name binding, Selection, Repetition, Modularization. Data organization: List and Arrays. Simple algorithms, comparison of performance of algorithms.'}, 'textbooks': {'1': 'David Riley and Kenny Hunt, Computational Thinking for Modern Solver, Chapman & Hall /CRC, 2014', '2': 'R. G. Dromey, “How to solve it by Computer”, PHI, 2008'}}}\n15CSE102 => {'courseCode': '15CSE102', 'courseDescription': {'references': {'1': 'Brian W. Kernighan, Dennis M. Ritchie, “The C Programming Language”, Second Edition, Prentice Hall, 1988.', '2': 'Eric S. Roberts, “Art and science of C”, Addison Wesley, 1995.', '3': 'Jeri Hanly and Elliot Koffman, “Problem solving and program design in C”, Fifth Edition, Addison Wesley (Pearson), 2007.'}, 'textbooks': {'1': 'Behrouz A. Forouzan and Richard F. Filberg, “Computer Science A structured programming approach using C”, Third Edition, Cengage Learning, 2006.'}, 'units': {'Unit 3': 'Strings: fixed length and variable length strings, strings and characters, string input output, array of strings, string manipulation functions, sorting of strings. Enumerated types, Structures: Structure vs array comparison, complex structures, Structures and functions, Union, binary input output, Command line arguments.', 'Unit 1': 'Introduction to C language: Structure of a C program, comments, Data types, Variables, constants, Data input and output statements, input ass ertions; expressions and evaluation. Functions: inter function communication, standard functions, scope. Selection: two way selection, multi-way selection, repetition: concept of loop, loop invariant, pretest and post-test loops, initialization and updating, event and counter controlled loops. Recursion: recursive definition, recursive solution, designing recursive functions, limitations of recursion.', 'Unit 2': 'Files and streams, file input output. Arrays - 1D numeric, searching and sorting, 2D numeric arrays: problems with matrices. Pointers: introduction, compatibility, arrays and pointers, Dynamic memory allocation, array of pointers, pointer arithmetic.'}}, 'courseName': 'COMPUTER PROGRAMMING'}\n15CSE111 => {'courseCode': '15CSE111', 'courseDescription': {'textbooks': {'1': 'J. Glenn Brookshear, “Computer Science: An Overview”, Addison-Wesley, Twelfth Edition, 2014.'}, 'units': {'Unit 3': 'Computer Graphics: Scope of Computer Graphics, Overview of 3D Graphics. Artificial Intelligence: Intelligence and Machines, Perception, Reasoning. An Introduction to topics of research in the department.', 'Unit 1': 'Introduction to Computer Science: Role of Algorithms, History of Computing, Science of Algorithms, Abstractions. Basics of data encoding and storage: Bits and their storage, Main memory, Mass Storage, Representing Information as Bit Patterns. Machine Architecture: CPU Basics, Stored Program concepts, Machine Language Introduction with example, Program Execution with illustrative example.', 'Unit 2': 'Operating Systems: History of OS, OS Architecture, Coordinating Machine Activities. Networking and the Internet: Network Fundamentals, The Internet, The World Wide Web. Software Engineering: Introduction, Software Life Cycle. Database Systems: Database Fundamentals, Relational Model.'}}, 'courseName': 'COMPUTER SCIENCE ESSENTIALS'}\n"
    }
   ],
   "source": [
    "# Code to fetch details\n",
    "\n",
    "# Available data: User, Course\n",
    "\n",
    "doc_ref = db.collection(u'Course')\n",
    "\n",
    "docs = doc_ref.stream()\n",
    "\n",
    "for doc in docs:\n",
    "    print(u'{} => {}'.format(doc.id, doc.to_dict()))"
   ]
  },
  {
   "cell_type": "code",
   "execution_count": null,
   "metadata": {},
   "outputs": [],
   "source": []
  }
 ],
 "metadata": {
  "kernelspec": {
   "display_name": "Python 3",
   "language": "python",
   "name": "python3"
  },
  "language_info": {
   "codemirror_mode": {
    "name": "ipython",
    "version": 3
   },
   "file_extension": ".py",
   "mimetype": "text/x-python",
   "name": "python",
   "nbconvert_exporter": "python",
   "pygments_lexer": "ipython3",
   "version": "3.7.5"
  }
 },
 "nbformat": 4,
 "nbformat_minor": 2
}